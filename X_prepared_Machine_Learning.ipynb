{
  "nbformat": 4,
  "nbformat_minor": 0,
  "metadata": {
    "colab": {
      "provenance": [],
      "collapsed_sections": []
    },
    "kernelspec": {
      "name": "python3",
      "display_name": "Python 3"
    },
    "language_info": {
      "name": "python"
    }
  },
  "cells": [
    {
      "cell_type": "markdown",
      "source": [
        "![Imgur](https://i.imgur.com/5pXzCIu.png)\n",
        "\n",
        "# Data Science and artificial intelligence  Practicum\n",
        "\n",
        "## 5-MODUL. Machine Learning\n",
        "\n",
        "### Machine Learning / X_prepared data\n",
        "<img src=\"https://www.kdnuggets.com/wp-content/uploads/deploy-machine-learning-models-to-web.jpg\"\n",
        "alt=\"standartization\" width=\"1800\" height=\"400\"/>\n",
        "\n"
      ],
      "metadata": {
        "id": "akYYCx1IKAiN"
      }
    },
    {
      "cell_type": "code",
      "source": [
        "import pandas as pd\n",
        "import numpy as np\n",
        "import matplotlib.pyplot as plt\n",
        "%matplotlib inline\n",
        "import seaborn as sns\n",
        "import sklearn # scikit-learn library"
      ],
      "metadata": {
        "id": "XQrE57ioIgce"
      },
      "execution_count": null,
      "outputs": []
    },
    {
      "cell_type": "code",
      "source": [
        "# online address of our data set.\n",
        "URL = \"https://github.com/ageron/handson-ml2/blob/master/datasets/housing/housing.csv?raw=true\"\n",
        "df = pd.read_csv(URL)\n",
        "\n",
        "from sklearn.model_selection import train_test_split   \n",
        "train_set, test_set = train_test_split(df, test_size=0.2, random_state=42)\n",
        "\n",
        "X_train = train_set.drop(\"median_house_value\", axis=1) \n",
        "y = train_set[\"median_house_value\"].copy()\n",
        "\n",
        "X_num = X_train.drop(\"ocean_proximity\", axis=1)"
      ],
      "metadata": {
        "id": "m4dfxYHNJKfq"
      },
      "execution_count": null,
      "outputs": []
    },
    {
      "cell_type": "code",
      "source": [
        "from sklearn.base import BaseEstimator, TransformerMixin\n",
        "# indexes of the columns that we need.\n",
        "rooms_ix, bedrooms_ix, population_ix, households_ix = 3, 4, 5, 6\n",
        "\n",
        "class CombinedAttributesAdder(BaseEstimator, TransformerMixin):\n",
        "    def __init__(self, add_bedrooms_per_room = True):\n",
        "        self.add_bedrooms_per_room = add_bedrooms_per_room\n",
        "    def fit(self, X, y=None):\n",
        "        return self #Our function is only transformer, not an estimator.\n",
        "    def transform(self, X):\n",
        "        rooms_per_household = X[:, rooms_ix] / X[:, households_ix]\n",
        "        population_per_household = X[:, population_ix] / X[:, households_ix]\n",
        "        if self.add_bedrooms_per_room: # add_bedrooms_per_room column will be freewill.\n",
        "            bedrooms_per_room = X[:, bedrooms_ix] / X[:, rooms_ix]\n",
        "            return np.c_[X, rooms_per_household, population_per_household, bedrooms_per_room]\n",
        "        else:\n",
        "            return np.c_[X, rooms_per_household, population_per_household]"
      ],
      "metadata": {
        "id": "aFSd7k0MJORS"
      },
      "execution_count": null,
      "outputs": []
    },
    {
      "cell_type": "code",
      "source": [
        "from sklearn.pipeline import Pipeline\n",
        "from sklearn.impute import SimpleImputer\n",
        "from sklearn.preprocessing import OneHotEncoder, StandardScaler\n",
        "\n",
        "num_pipeline = Pipeline([\n",
        "          ('imputer', SimpleImputer(strategy='median')), # will change nan values with medians\n",
        "          ('attribs_adder', CombinedAttributesAdder(add_bedrooms_per_room = True)), # will add new columns \n",
        "          ('std_scaler', StandardScaler())             \n",
        "])"
      ],
      "metadata": {
        "id": "6C8TqgEaJXlf"
      },
      "execution_count": null,
      "outputs": []
    },
    {
      "cell_type": "code",
      "source": [
        "from sklearn.compose import ColumnTransformer\n",
        "\n",
        "num_attribs = list(X_num)\n",
        "cat_attribs = ['ocean_proximity']\n",
        "\n",
        "full_pipeline = ColumnTransformer([\n",
        "    ('num', num_pipeline, num_attribs),\n",
        "    ('cat', OneHotEncoder(), cat_attribs)\n",
        "])"
      ],
      "metadata": {
        "id": "tOhuSS0aJaJn"
      },
      "execution_count": null,
      "outputs": []
    },
    {
      "cell_type": "code",
      "source": [
        "X_prepared=full_pipeline.fit_transform(X_train)"
      ],
      "metadata": {
        "id": "wub4E-qGJfpZ"
      },
      "execution_count": null,
      "outputs": []
    },
    {
      "cell_type": "code",
      "source": [
        "X_prepared[0:5, :]"
      ],
      "metadata": {
        "colab": {
          "base_uri": "https://localhost:8080/"
        },
        "id": "FMpBGcNoJjtJ",
        "outputId": "e64efc73-4eea-4a98-cfd9-aa34e7b1cbb6"
      },
      "execution_count": null,
      "outputs": [
        {
          "output_type": "execute_result",
          "data": {
            "text/plain": [
              "array([[ 1.27258656, -1.3728112 ,  0.34849025,  0.22256942,  0.21122752,\n",
              "         0.76827628,  0.32290591, -0.326196  , -0.17491646,  0.05137609,\n",
              "        -0.2117846 ,  0.        ,  0.        ,  0.        ,  0.        ,\n",
              "         1.        ],\n",
              "       [ 0.70916212, -0.87669601,  1.61811813,  0.34029326,  0.59309419,\n",
              "        -0.09890135,  0.6720272 , -0.03584338, -0.40283542, -0.11736222,\n",
              "         0.34218528,  0.        ,  0.        ,  0.        ,  0.        ,\n",
              "         1.        ],\n",
              "       [-0.44760309, -0.46014647, -1.95271028, -0.34259695, -0.49522582,\n",
              "        -0.44981806, -0.43046109,  0.14470145,  0.08821601, -0.03227969,\n",
              "        -0.66165785,  0.        ,  0.        ,  0.        ,  0.        ,\n",
              "         1.        ],\n",
              "       [ 1.23269811, -1.38217186,  0.58654547, -0.56148971, -0.40930582,\n",
              "        -0.00743434, -0.38058662, -1.01786438, -0.60001532,  0.07750687,\n",
              "         0.78303162,  0.        ,  0.        ,  0.        ,  0.        ,\n",
              "         1.        ],\n",
              "       [-0.10855122,  0.5320839 ,  1.14200767, -0.11956547, -0.25655915,\n",
              "        -0.48587717, -0.31496232, -0.17148831,  0.3490073 , -0.06883176,\n",
              "        -0.55036364,  0.        ,  1.        ,  0.        ,  0.        ,\n",
              "         0.        ]])"
            ]
          },
          "metadata": {},
          "execution_count": 141
        }
      ]
    },
    {
      "cell_type": "markdown",
      "source": [
        "# Linear Regression "
      ],
      "metadata": {
        "id": "5C-hmhcvNO7X"
      }
    },
    {
      "cell_type": "code",
      "source": [
        "from sklearn.linear_model import LinearRegression\n",
        "LR_model = LinearRegression()"
      ],
      "metadata": {
        "id": "BMQmq_hZNOmZ"
      },
      "execution_count": null,
      "outputs": []
    },
    {
      "cell_type": "code",
      "source": [
        "LR_model.fit(X_prepared, y)"
      ],
      "metadata": {
        "colab": {
          "base_uri": "https://localhost:8080/"
        },
        "id": "y9YXvHaIJ3xG",
        "outputId": "1c77c443-3b76-4b6f-8cb1-bc0330caf6b8"
      },
      "execution_count": null,
      "outputs": [
        {
          "output_type": "execute_result",
          "data": {
            "text/plain": [
              "LinearRegression()"
            ]
          },
          "metadata": {},
          "execution_count": 143
        }
      ]
    },
    {
      "cell_type": "markdown",
      "source": [
        "#End of ML model ^"
      ],
      "metadata": {
        "id": "ofbx_wUYPbqd"
      }
    },
    {
      "cell_type": "markdown",
      "source": [
        "# Let's test our ML model !"
      ],
      "metadata": {
        "id": "wq5Ehz91Qfvf"
      }
    },
    {
      "cell_type": "code",
      "source": [
        "test_data = X_train.sample(10)  # I;m taking 10 samples from our main train set"
      ],
      "metadata": {
        "id": "nKhpGSvmNzX2"
      },
      "execution_count": null,
      "outputs": []
    },
    {
      "cell_type": "code",
      "source": [
        "test_data"
      ],
      "metadata": {
        "colab": {
          "base_uri": "https://localhost:8080/",
          "height": 363
        },
        "id": "bJ9b10dEQDMW",
        "outputId": "91c67681-b6cf-4684-a75d-6370a6401614"
      },
      "execution_count": null,
      "outputs": [
        {
          "output_type": "execute_result",
          "data": {
            "text/plain": [
              "       longitude  latitude  housing_median_age  total_rooms  total_bedrooms  \\\n",
              "9944     -122.26     38.16                23.0       2840.0           491.0   \n",
              "19008    -121.99     38.35                45.0       1778.0           339.0   \n",
              "6672     -118.11     34.15                40.0       1950.0           509.0   \n",
              "16743    -122.45     37.71                50.0       1441.0           283.0   \n",
              "2985     -119.01     35.33                42.0       1120.0           255.0   \n",
              "7634     -118.29     33.84                23.0       3626.0           799.0   \n",
              "17749    -121.84     37.34                33.0       1019.0           191.0   \n",
              "11625    -118.06     33.82                25.0       2637.0           462.0   \n",
              "19867    -119.34     36.34                 5.0       4505.0           834.0   \n",
              "8316     -118.32     33.33                52.0       2127.0           512.0   \n",
              "\n",
              "       population  households  median_income ocean_proximity  \n",
              "9944       1586.0       466.0         4.0337        NEAR BAY  \n",
              "19008       839.0       319.0         2.4659          INLAND  \n",
              "6672       1038.0       438.0         2.6172       <1H OCEAN  \n",
              "16743      1159.0       286.0         4.5417      NEAR OCEAN  \n",
              "2985        677.0       213.0         1.5429          INLAND  \n",
              "7634       2321.0       731.0         4.7393       <1H OCEAN  \n",
              "17749       938.0       215.0         4.0929       <1H OCEAN  \n",
              "11625       965.0       415.0         4.5833       <1H OCEAN  \n",
              "19867      1917.0       775.0         4.0144          INLAND  \n",
              "8316        733.0       288.0         3.3906          ISLAND  "
            ],
            "text/html": [
              "\n",
              "  <div id=\"df-d251a132-cf9b-4ec9-8fd7-60d4a45b704e\">\n",
              "    <div class=\"colab-df-container\">\n",
              "      <div>\n",
              "<style scoped>\n",
              "    .dataframe tbody tr th:only-of-type {\n",
              "        vertical-align: middle;\n",
              "    }\n",
              "\n",
              "    .dataframe tbody tr th {\n",
              "        vertical-align: top;\n",
              "    }\n",
              "\n",
              "    .dataframe thead th {\n",
              "        text-align: right;\n",
              "    }\n",
              "</style>\n",
              "<table border=\"1\" class=\"dataframe\">\n",
              "  <thead>\n",
              "    <tr style=\"text-align: right;\">\n",
              "      <th></th>\n",
              "      <th>longitude</th>\n",
              "      <th>latitude</th>\n",
              "      <th>housing_median_age</th>\n",
              "      <th>total_rooms</th>\n",
              "      <th>total_bedrooms</th>\n",
              "      <th>population</th>\n",
              "      <th>households</th>\n",
              "      <th>median_income</th>\n",
              "      <th>ocean_proximity</th>\n",
              "    </tr>\n",
              "  </thead>\n",
              "  <tbody>\n",
              "    <tr>\n",
              "      <th>9944</th>\n",
              "      <td>-122.26</td>\n",
              "      <td>38.16</td>\n",
              "      <td>23.0</td>\n",
              "      <td>2840.0</td>\n",
              "      <td>491.0</td>\n",
              "      <td>1586.0</td>\n",
              "      <td>466.0</td>\n",
              "      <td>4.0337</td>\n",
              "      <td>NEAR BAY</td>\n",
              "    </tr>\n",
              "    <tr>\n",
              "      <th>19008</th>\n",
              "      <td>-121.99</td>\n",
              "      <td>38.35</td>\n",
              "      <td>45.0</td>\n",
              "      <td>1778.0</td>\n",
              "      <td>339.0</td>\n",
              "      <td>839.0</td>\n",
              "      <td>319.0</td>\n",
              "      <td>2.4659</td>\n",
              "      <td>INLAND</td>\n",
              "    </tr>\n",
              "    <tr>\n",
              "      <th>6672</th>\n",
              "      <td>-118.11</td>\n",
              "      <td>34.15</td>\n",
              "      <td>40.0</td>\n",
              "      <td>1950.0</td>\n",
              "      <td>509.0</td>\n",
              "      <td>1038.0</td>\n",
              "      <td>438.0</td>\n",
              "      <td>2.6172</td>\n",
              "      <td>&lt;1H OCEAN</td>\n",
              "    </tr>\n",
              "    <tr>\n",
              "      <th>16743</th>\n",
              "      <td>-122.45</td>\n",
              "      <td>37.71</td>\n",
              "      <td>50.0</td>\n",
              "      <td>1441.0</td>\n",
              "      <td>283.0</td>\n",
              "      <td>1159.0</td>\n",
              "      <td>286.0</td>\n",
              "      <td>4.5417</td>\n",
              "      <td>NEAR OCEAN</td>\n",
              "    </tr>\n",
              "    <tr>\n",
              "      <th>2985</th>\n",
              "      <td>-119.01</td>\n",
              "      <td>35.33</td>\n",
              "      <td>42.0</td>\n",
              "      <td>1120.0</td>\n",
              "      <td>255.0</td>\n",
              "      <td>677.0</td>\n",
              "      <td>213.0</td>\n",
              "      <td>1.5429</td>\n",
              "      <td>INLAND</td>\n",
              "    </tr>\n",
              "    <tr>\n",
              "      <th>7634</th>\n",
              "      <td>-118.29</td>\n",
              "      <td>33.84</td>\n",
              "      <td>23.0</td>\n",
              "      <td>3626.0</td>\n",
              "      <td>799.0</td>\n",
              "      <td>2321.0</td>\n",
              "      <td>731.0</td>\n",
              "      <td>4.7393</td>\n",
              "      <td>&lt;1H OCEAN</td>\n",
              "    </tr>\n",
              "    <tr>\n",
              "      <th>17749</th>\n",
              "      <td>-121.84</td>\n",
              "      <td>37.34</td>\n",
              "      <td>33.0</td>\n",
              "      <td>1019.0</td>\n",
              "      <td>191.0</td>\n",
              "      <td>938.0</td>\n",
              "      <td>215.0</td>\n",
              "      <td>4.0929</td>\n",
              "      <td>&lt;1H OCEAN</td>\n",
              "    </tr>\n",
              "    <tr>\n",
              "      <th>11625</th>\n",
              "      <td>-118.06</td>\n",
              "      <td>33.82</td>\n",
              "      <td>25.0</td>\n",
              "      <td>2637.0</td>\n",
              "      <td>462.0</td>\n",
              "      <td>965.0</td>\n",
              "      <td>415.0</td>\n",
              "      <td>4.5833</td>\n",
              "      <td>&lt;1H OCEAN</td>\n",
              "    </tr>\n",
              "    <tr>\n",
              "      <th>19867</th>\n",
              "      <td>-119.34</td>\n",
              "      <td>36.34</td>\n",
              "      <td>5.0</td>\n",
              "      <td>4505.0</td>\n",
              "      <td>834.0</td>\n",
              "      <td>1917.0</td>\n",
              "      <td>775.0</td>\n",
              "      <td>4.0144</td>\n",
              "      <td>INLAND</td>\n",
              "    </tr>\n",
              "    <tr>\n",
              "      <th>8316</th>\n",
              "      <td>-118.32</td>\n",
              "      <td>33.33</td>\n",
              "      <td>52.0</td>\n",
              "      <td>2127.0</td>\n",
              "      <td>512.0</td>\n",
              "      <td>733.0</td>\n",
              "      <td>288.0</td>\n",
              "      <td>3.3906</td>\n",
              "      <td>ISLAND</td>\n",
              "    </tr>\n",
              "  </tbody>\n",
              "</table>\n",
              "</div>\n",
              "      <button class=\"colab-df-convert\" onclick=\"convertToInteractive('df-d251a132-cf9b-4ec9-8fd7-60d4a45b704e')\"\n",
              "              title=\"Convert this dataframe to an interactive table.\"\n",
              "              style=\"display:none;\">\n",
              "        \n",
              "  <svg xmlns=\"http://www.w3.org/2000/svg\" height=\"24px\"viewBox=\"0 0 24 24\"\n",
              "       width=\"24px\">\n",
              "    <path d=\"M0 0h24v24H0V0z\" fill=\"none\"/>\n",
              "    <path d=\"M18.56 5.44l.94 2.06.94-2.06 2.06-.94-2.06-.94-.94-2.06-.94 2.06-2.06.94zm-11 1L8.5 8.5l.94-2.06 2.06-.94-2.06-.94L8.5 2.5l-.94 2.06-2.06.94zm10 10l.94 2.06.94-2.06 2.06-.94-2.06-.94-.94-2.06-.94 2.06-2.06.94z\"/><path d=\"M17.41 7.96l-1.37-1.37c-.4-.4-.92-.59-1.43-.59-.52 0-1.04.2-1.43.59L10.3 9.45l-7.72 7.72c-.78.78-.78 2.05 0 2.83L4 21.41c.39.39.9.59 1.41.59.51 0 1.02-.2 1.41-.59l7.78-7.78 2.81-2.81c.8-.78.8-2.07 0-2.86zM5.41 20L4 18.59l7.72-7.72 1.47 1.35L5.41 20z\"/>\n",
              "  </svg>\n",
              "      </button>\n",
              "      \n",
              "  <style>\n",
              "    .colab-df-container {\n",
              "      display:flex;\n",
              "      flex-wrap:wrap;\n",
              "      gap: 12px;\n",
              "    }\n",
              "\n",
              "    .colab-df-convert {\n",
              "      background-color: #E8F0FE;\n",
              "      border: none;\n",
              "      border-radius: 50%;\n",
              "      cursor: pointer;\n",
              "      display: none;\n",
              "      fill: #1967D2;\n",
              "      height: 32px;\n",
              "      padding: 0 0 0 0;\n",
              "      width: 32px;\n",
              "    }\n",
              "\n",
              "    .colab-df-convert:hover {\n",
              "      background-color: #E2EBFA;\n",
              "      box-shadow: 0px 1px 2px rgba(60, 64, 67, 0.3), 0px 1px 3px 1px rgba(60, 64, 67, 0.15);\n",
              "      fill: #174EA6;\n",
              "    }\n",
              "\n",
              "    [theme=dark] .colab-df-convert {\n",
              "      background-color: #3B4455;\n",
              "      fill: #D2E3FC;\n",
              "    }\n",
              "\n",
              "    [theme=dark] .colab-df-convert:hover {\n",
              "      background-color: #434B5C;\n",
              "      box-shadow: 0px 1px 3px 1px rgba(0, 0, 0, 0.15);\n",
              "      filter: drop-shadow(0px 1px 2px rgba(0, 0, 0, 0.3));\n",
              "      fill: #FFFFFF;\n",
              "    }\n",
              "  </style>\n",
              "\n",
              "      <script>\n",
              "        const buttonEl =\n",
              "          document.querySelector('#df-d251a132-cf9b-4ec9-8fd7-60d4a45b704e button.colab-df-convert');\n",
              "        buttonEl.style.display =\n",
              "          google.colab.kernel.accessAllowed ? 'block' : 'none';\n",
              "\n",
              "        async function convertToInteractive(key) {\n",
              "          const element = document.querySelector('#df-d251a132-cf9b-4ec9-8fd7-60d4a45b704e');\n",
              "          const dataTable =\n",
              "            await google.colab.kernel.invokeFunction('convertToInteractive',\n",
              "                                                     [key], {});\n",
              "          if (!dataTable) return;\n",
              "\n",
              "          const docLinkHtml = 'Like what you see? Visit the ' +\n",
              "            '<a target=\"_blank\" href=https://colab.research.google.com/notebooks/data_table.ipynb>data table notebook</a>'\n",
              "            + ' to learn more about interactive tables.';\n",
              "          element.innerHTML = '';\n",
              "          dataTable['output_type'] = 'display_data';\n",
              "          await google.colab.output.renderOutput(dataTable, element);\n",
              "          const docLink = document.createElement('div');\n",
              "          docLink.innerHTML = docLinkHtml;\n",
              "          element.appendChild(docLink);\n",
              "        }\n",
              "      </script>\n",
              "    </div>\n",
              "  </div>\n",
              "  "
            ]
          },
          "metadata": {},
          "execution_count": 145
        }
      ]
    },
    {
      "cell_type": "markdown",
      "source": [
        "### Separating indexes of our test data"
      ],
      "metadata": {
        "id": "4zW0I-oYRVYM"
      }
    },
    {
      "cell_type": "code",
      "source": [
        "test_label = y.loc[test_data.index] \n",
        "test_label"
      ],
      "metadata": {
        "colab": {
          "base_uri": "https://localhost:8080/"
        },
        "id": "vSx6eB1uQE17",
        "outputId": "2c4ae522-0440-4c6e-8bd5-71de92387c24"
      },
      "execution_count": null,
      "outputs": [
        {
          "output_type": "execute_result",
          "data": {
            "text/plain": [
              "9944     130400.0\n",
              "19008    102900.0\n",
              "6672     196100.0\n",
              "16743    233700.0\n",
              "2985      39400.0\n",
              "7634     237900.0\n",
              "17749    165000.0\n",
              "11625    190900.0\n",
              "19867    126600.0\n",
              "8316     300000.0\n",
              "Name: median_house_value, dtype: float64"
            ]
          },
          "metadata": {},
          "execution_count": 146
        }
      ]
    },
    {
      "cell_type": "markdown",
      "source": [
        "### Our test data has to go through full pipeline "
      ],
      "metadata": {
        "id": "kNG4Fwr1Rezv"
      }
    },
    {
      "cell_type": "code",
      "source": [
        "test_data_prepared = full_pipeline.transform(test_data)\n",
        "predicted_labels = LR_model.predict(test_data_prepared)"
      ],
      "metadata": {
        "id": "UzE5ybYaR9U0"
      },
      "execution_count": null,
      "outputs": []
    },
    {
      "cell_type": "code",
      "source": [
        "predicted_labels"
      ],
      "metadata": {
        "colab": {
          "base_uri": "https://localhost:8080/"
        },
        "id": "uZbYwMUcSlc9",
        "outputId": "b4d000ad-6650-47e0-87bc-4300f04b9948"
      },
      "execution_count": null,
      "outputs": [
        {
          "output_type": "execute_result",
          "data": {
            "text/plain": [
              "array([201891.8147681 , 132992.0687647 , 194913.85639387, 274316.55392501,\n",
              "        90130.6473937 , 253849.74194825, 222020.448086  , 249980.1059327 ,\n",
              "       148301.18279409, 399449.39338006])"
            ]
          },
          "metadata": {},
          "execution_count": 148
        }
      ]
    },
    {
      "cell_type": "markdown",
      "source": [
        "# NOW WE CAN COMPARE OUR PREDICTED PRICES AND REAL PRICES, BY EXECUTING THEM SIDE BY SIDE"
      ],
      "metadata": {
        "id": "-QmpRjL0U7bX"
      }
    },
    {
      "cell_type": "code",
      "source": [
        "pd.DataFrame({\"ML PREDICTION\":predicted_labels, \"REAL PRICE\":test_label})"
      ],
      "metadata": {
        "colab": {
          "base_uri": "https://localhost:8080/",
          "height": 363
        },
        "id": "Qh5_AWq7Tm44",
        "outputId": "a2b597dc-4a13-40c2-97f4-acbd1b64c33d"
      },
      "execution_count": null,
      "outputs": [
        {
          "output_type": "execute_result",
          "data": {
            "text/plain": [
              "       ML PREDICTION  REAL PRICE\n",
              "9944   201891.814768    130400.0\n",
              "19008  132992.068765    102900.0\n",
              "6672   194913.856394    196100.0\n",
              "16743  274316.553925    233700.0\n",
              "2985    90130.647394     39400.0\n",
              "7634   253849.741948    237900.0\n",
              "17749  222020.448086    165000.0\n",
              "11625  249980.105933    190900.0\n",
              "19867  148301.182794    126600.0\n",
              "8316   399449.393380    300000.0"
            ],
            "text/html": [
              "\n",
              "  <div id=\"df-aa60a97d-76df-455b-9083-07f14e587c1b\">\n",
              "    <div class=\"colab-df-container\">\n",
              "      <div>\n",
              "<style scoped>\n",
              "    .dataframe tbody tr th:only-of-type {\n",
              "        vertical-align: middle;\n",
              "    }\n",
              "\n",
              "    .dataframe tbody tr th {\n",
              "        vertical-align: top;\n",
              "    }\n",
              "\n",
              "    .dataframe thead th {\n",
              "        text-align: right;\n",
              "    }\n",
              "</style>\n",
              "<table border=\"1\" class=\"dataframe\">\n",
              "  <thead>\n",
              "    <tr style=\"text-align: right;\">\n",
              "      <th></th>\n",
              "      <th>ML PREDICTION</th>\n",
              "      <th>REAL PRICE</th>\n",
              "    </tr>\n",
              "  </thead>\n",
              "  <tbody>\n",
              "    <tr>\n",
              "      <th>9944</th>\n",
              "      <td>201891.814768</td>\n",
              "      <td>130400.0</td>\n",
              "    </tr>\n",
              "    <tr>\n",
              "      <th>19008</th>\n",
              "      <td>132992.068765</td>\n",
              "      <td>102900.0</td>\n",
              "    </tr>\n",
              "    <tr>\n",
              "      <th>6672</th>\n",
              "      <td>194913.856394</td>\n",
              "      <td>196100.0</td>\n",
              "    </tr>\n",
              "    <tr>\n",
              "      <th>16743</th>\n",
              "      <td>274316.553925</td>\n",
              "      <td>233700.0</td>\n",
              "    </tr>\n",
              "    <tr>\n",
              "      <th>2985</th>\n",
              "      <td>90130.647394</td>\n",
              "      <td>39400.0</td>\n",
              "    </tr>\n",
              "    <tr>\n",
              "      <th>7634</th>\n",
              "      <td>253849.741948</td>\n",
              "      <td>237900.0</td>\n",
              "    </tr>\n",
              "    <tr>\n",
              "      <th>17749</th>\n",
              "      <td>222020.448086</td>\n",
              "      <td>165000.0</td>\n",
              "    </tr>\n",
              "    <tr>\n",
              "      <th>11625</th>\n",
              "      <td>249980.105933</td>\n",
              "      <td>190900.0</td>\n",
              "    </tr>\n",
              "    <tr>\n",
              "      <th>19867</th>\n",
              "      <td>148301.182794</td>\n",
              "      <td>126600.0</td>\n",
              "    </tr>\n",
              "    <tr>\n",
              "      <th>8316</th>\n",
              "      <td>399449.393380</td>\n",
              "      <td>300000.0</td>\n",
              "    </tr>\n",
              "  </tbody>\n",
              "</table>\n",
              "</div>\n",
              "      <button class=\"colab-df-convert\" onclick=\"convertToInteractive('df-aa60a97d-76df-455b-9083-07f14e587c1b')\"\n",
              "              title=\"Convert this dataframe to an interactive table.\"\n",
              "              style=\"display:none;\">\n",
              "        \n",
              "  <svg xmlns=\"http://www.w3.org/2000/svg\" height=\"24px\"viewBox=\"0 0 24 24\"\n",
              "       width=\"24px\">\n",
              "    <path d=\"M0 0h24v24H0V0z\" fill=\"none\"/>\n",
              "    <path d=\"M18.56 5.44l.94 2.06.94-2.06 2.06-.94-2.06-.94-.94-2.06-.94 2.06-2.06.94zm-11 1L8.5 8.5l.94-2.06 2.06-.94-2.06-.94L8.5 2.5l-.94 2.06-2.06.94zm10 10l.94 2.06.94-2.06 2.06-.94-2.06-.94-.94-2.06-.94 2.06-2.06.94z\"/><path d=\"M17.41 7.96l-1.37-1.37c-.4-.4-.92-.59-1.43-.59-.52 0-1.04.2-1.43.59L10.3 9.45l-7.72 7.72c-.78.78-.78 2.05 0 2.83L4 21.41c.39.39.9.59 1.41.59.51 0 1.02-.2 1.41-.59l7.78-7.78 2.81-2.81c.8-.78.8-2.07 0-2.86zM5.41 20L4 18.59l7.72-7.72 1.47 1.35L5.41 20z\"/>\n",
              "  </svg>\n",
              "      </button>\n",
              "      \n",
              "  <style>\n",
              "    .colab-df-container {\n",
              "      display:flex;\n",
              "      flex-wrap:wrap;\n",
              "      gap: 12px;\n",
              "    }\n",
              "\n",
              "    .colab-df-convert {\n",
              "      background-color: #E8F0FE;\n",
              "      border: none;\n",
              "      border-radius: 50%;\n",
              "      cursor: pointer;\n",
              "      display: none;\n",
              "      fill: #1967D2;\n",
              "      height: 32px;\n",
              "      padding: 0 0 0 0;\n",
              "      width: 32px;\n",
              "    }\n",
              "\n",
              "    .colab-df-convert:hover {\n",
              "      background-color: #E2EBFA;\n",
              "      box-shadow: 0px 1px 2px rgba(60, 64, 67, 0.3), 0px 1px 3px 1px rgba(60, 64, 67, 0.15);\n",
              "      fill: #174EA6;\n",
              "    }\n",
              "\n",
              "    [theme=dark] .colab-df-convert {\n",
              "      background-color: #3B4455;\n",
              "      fill: #D2E3FC;\n",
              "    }\n",
              "\n",
              "    [theme=dark] .colab-df-convert:hover {\n",
              "      background-color: #434B5C;\n",
              "      box-shadow: 0px 1px 3px 1px rgba(0, 0, 0, 0.15);\n",
              "      filter: drop-shadow(0px 1px 2px rgba(0, 0, 0, 0.3));\n",
              "      fill: #FFFFFF;\n",
              "    }\n",
              "  </style>\n",
              "\n",
              "      <script>\n",
              "        const buttonEl =\n",
              "          document.querySelector('#df-aa60a97d-76df-455b-9083-07f14e587c1b button.colab-df-convert');\n",
              "        buttonEl.style.display =\n",
              "          google.colab.kernel.accessAllowed ? 'block' : 'none';\n",
              "\n",
              "        async function convertToInteractive(key) {\n",
              "          const element = document.querySelector('#df-aa60a97d-76df-455b-9083-07f14e587c1b');\n",
              "          const dataTable =\n",
              "            await google.colab.kernel.invokeFunction('convertToInteractive',\n",
              "                                                     [key], {});\n",
              "          if (!dataTable) return;\n",
              "\n",
              "          const docLinkHtml = 'Like what you see? Visit the ' +\n",
              "            '<a target=\"_blank\" href=https://colab.research.google.com/notebooks/data_table.ipynb>data table notebook</a>'\n",
              "            + ' to learn more about interactive tables.';\n",
              "          element.innerHTML = '';\n",
              "          dataTable['output_type'] = 'display_data';\n",
              "          await google.colab.output.renderOutput(dataTable, element);\n",
              "          const docLink = document.createElement('div');\n",
              "          docLink.innerHTML = docLinkHtml;\n",
              "          element.appendChild(docLink);\n",
              "        }\n",
              "      </script>\n",
              "    </div>\n",
              "  </div>\n",
              "  "
            ]
          },
          "metadata": {},
          "execution_count": 149
        }
      ]
    },
    {
      "cell_type": "markdown",
      "source": [
        "# MODEL EVALUATION"
      ],
      "metadata": {
        "id": "2nhw2aMFlxYn"
      }
    },
    {
      "cell_type": "markdown",
      "source": [
        "### From test set I  will drop median house value"
      ],
      "metadata": {
        "id": "Tjf5BS2ApjxG"
      }
    },
    {
      "cell_type": "code",
      "source": [
        "X_test = test_set.drop([\"median_house_value\"], axis=1) "
      ],
      "metadata": {
        "id": "Ss7oD9tsUYZy"
      },
      "execution_count": null,
      "outputs": []
    },
    {
      "cell_type": "code",
      "source": [
        "X_test"
      ],
      "metadata": {
        "colab": {
          "base_uri": "https://localhost:8080/",
          "height": 424
        },
        "id": "zS2N2-Rfm0DB",
        "outputId": "2e43bbfa-8b71-46c5-9efa-6d79b0dde7e2"
      },
      "execution_count": null,
      "outputs": [
        {
          "output_type": "execute_result",
          "data": {
            "text/plain": [
              "       longitude  latitude  housing_median_age  total_rooms  total_bedrooms  \\\n",
              "20046    -119.01     36.06                25.0       1505.0             NaN   \n",
              "3024     -119.46     35.14                30.0       2943.0             NaN   \n",
              "15663    -122.44     37.80                52.0       3830.0             NaN   \n",
              "20484    -118.72     34.28                17.0       3051.0             NaN   \n",
              "9814     -121.93     36.62                34.0       2351.0             NaN   \n",
              "...          ...       ...                 ...          ...             ...   \n",
              "15362    -117.22     33.36                16.0       3165.0           482.0   \n",
              "16623    -120.83     35.36                28.0       4323.0           886.0   \n",
              "18086    -122.05     37.31                25.0       4111.0           538.0   \n",
              "2144     -119.76     36.77                36.0       2507.0           466.0   \n",
              "3665     -118.37     34.22                17.0       1787.0           463.0   \n",
              "\n",
              "       population  households  median_income ocean_proximity  \n",
              "20046      1392.0       359.0         1.6812          INLAND  \n",
              "3024       1565.0       584.0         2.5313          INLAND  \n",
              "15663      1310.0       963.0         3.4801        NEAR BAY  \n",
              "20484      1705.0       495.0         5.7376       <1H OCEAN  \n",
              "9814       1063.0       428.0         3.7250      NEAR OCEAN  \n",
              "...           ...         ...            ...             ...  \n",
              "15362      1351.0       452.0         4.6050       <1H OCEAN  \n",
              "16623      1650.0       705.0         2.7266      NEAR OCEAN  \n",
              "18086      1585.0       568.0         9.2298       <1H OCEAN  \n",
              "2144       1227.0       474.0         2.7850          INLAND  \n",
              "3665       1671.0       448.0         3.5521       <1H OCEAN  \n",
              "\n",
              "[4128 rows x 9 columns]"
            ],
            "text/html": [
              "\n",
              "  <div id=\"df-9092deba-16a9-407f-a801-60213b7779a4\">\n",
              "    <div class=\"colab-df-container\">\n",
              "      <div>\n",
              "<style scoped>\n",
              "    .dataframe tbody tr th:only-of-type {\n",
              "        vertical-align: middle;\n",
              "    }\n",
              "\n",
              "    .dataframe tbody tr th {\n",
              "        vertical-align: top;\n",
              "    }\n",
              "\n",
              "    .dataframe thead th {\n",
              "        text-align: right;\n",
              "    }\n",
              "</style>\n",
              "<table border=\"1\" class=\"dataframe\">\n",
              "  <thead>\n",
              "    <tr style=\"text-align: right;\">\n",
              "      <th></th>\n",
              "      <th>longitude</th>\n",
              "      <th>latitude</th>\n",
              "      <th>housing_median_age</th>\n",
              "      <th>total_rooms</th>\n",
              "      <th>total_bedrooms</th>\n",
              "      <th>population</th>\n",
              "      <th>households</th>\n",
              "      <th>median_income</th>\n",
              "      <th>ocean_proximity</th>\n",
              "    </tr>\n",
              "  </thead>\n",
              "  <tbody>\n",
              "    <tr>\n",
              "      <th>20046</th>\n",
              "      <td>-119.01</td>\n",
              "      <td>36.06</td>\n",
              "      <td>25.0</td>\n",
              "      <td>1505.0</td>\n",
              "      <td>NaN</td>\n",
              "      <td>1392.0</td>\n",
              "      <td>359.0</td>\n",
              "      <td>1.6812</td>\n",
              "      <td>INLAND</td>\n",
              "    </tr>\n",
              "    <tr>\n",
              "      <th>3024</th>\n",
              "      <td>-119.46</td>\n",
              "      <td>35.14</td>\n",
              "      <td>30.0</td>\n",
              "      <td>2943.0</td>\n",
              "      <td>NaN</td>\n",
              "      <td>1565.0</td>\n",
              "      <td>584.0</td>\n",
              "      <td>2.5313</td>\n",
              "      <td>INLAND</td>\n",
              "    </tr>\n",
              "    <tr>\n",
              "      <th>15663</th>\n",
              "      <td>-122.44</td>\n",
              "      <td>37.80</td>\n",
              "      <td>52.0</td>\n",
              "      <td>3830.0</td>\n",
              "      <td>NaN</td>\n",
              "      <td>1310.0</td>\n",
              "      <td>963.0</td>\n",
              "      <td>3.4801</td>\n",
              "      <td>NEAR BAY</td>\n",
              "    </tr>\n",
              "    <tr>\n",
              "      <th>20484</th>\n",
              "      <td>-118.72</td>\n",
              "      <td>34.28</td>\n",
              "      <td>17.0</td>\n",
              "      <td>3051.0</td>\n",
              "      <td>NaN</td>\n",
              "      <td>1705.0</td>\n",
              "      <td>495.0</td>\n",
              "      <td>5.7376</td>\n",
              "      <td>&lt;1H OCEAN</td>\n",
              "    </tr>\n",
              "    <tr>\n",
              "      <th>9814</th>\n",
              "      <td>-121.93</td>\n",
              "      <td>36.62</td>\n",
              "      <td>34.0</td>\n",
              "      <td>2351.0</td>\n",
              "      <td>NaN</td>\n",
              "      <td>1063.0</td>\n",
              "      <td>428.0</td>\n",
              "      <td>3.7250</td>\n",
              "      <td>NEAR OCEAN</td>\n",
              "    </tr>\n",
              "    <tr>\n",
              "      <th>...</th>\n",
              "      <td>...</td>\n",
              "      <td>...</td>\n",
              "      <td>...</td>\n",
              "      <td>...</td>\n",
              "      <td>...</td>\n",
              "      <td>...</td>\n",
              "      <td>...</td>\n",
              "      <td>...</td>\n",
              "      <td>...</td>\n",
              "    </tr>\n",
              "    <tr>\n",
              "      <th>15362</th>\n",
              "      <td>-117.22</td>\n",
              "      <td>33.36</td>\n",
              "      <td>16.0</td>\n",
              "      <td>3165.0</td>\n",
              "      <td>482.0</td>\n",
              "      <td>1351.0</td>\n",
              "      <td>452.0</td>\n",
              "      <td>4.6050</td>\n",
              "      <td>&lt;1H OCEAN</td>\n",
              "    </tr>\n",
              "    <tr>\n",
              "      <th>16623</th>\n",
              "      <td>-120.83</td>\n",
              "      <td>35.36</td>\n",
              "      <td>28.0</td>\n",
              "      <td>4323.0</td>\n",
              "      <td>886.0</td>\n",
              "      <td>1650.0</td>\n",
              "      <td>705.0</td>\n",
              "      <td>2.7266</td>\n",
              "      <td>NEAR OCEAN</td>\n",
              "    </tr>\n",
              "    <tr>\n",
              "      <th>18086</th>\n",
              "      <td>-122.05</td>\n",
              "      <td>37.31</td>\n",
              "      <td>25.0</td>\n",
              "      <td>4111.0</td>\n",
              "      <td>538.0</td>\n",
              "      <td>1585.0</td>\n",
              "      <td>568.0</td>\n",
              "      <td>9.2298</td>\n",
              "      <td>&lt;1H OCEAN</td>\n",
              "    </tr>\n",
              "    <tr>\n",
              "      <th>2144</th>\n",
              "      <td>-119.76</td>\n",
              "      <td>36.77</td>\n",
              "      <td>36.0</td>\n",
              "      <td>2507.0</td>\n",
              "      <td>466.0</td>\n",
              "      <td>1227.0</td>\n",
              "      <td>474.0</td>\n",
              "      <td>2.7850</td>\n",
              "      <td>INLAND</td>\n",
              "    </tr>\n",
              "    <tr>\n",
              "      <th>3665</th>\n",
              "      <td>-118.37</td>\n",
              "      <td>34.22</td>\n",
              "      <td>17.0</td>\n",
              "      <td>1787.0</td>\n",
              "      <td>463.0</td>\n",
              "      <td>1671.0</td>\n",
              "      <td>448.0</td>\n",
              "      <td>3.5521</td>\n",
              "      <td>&lt;1H OCEAN</td>\n",
              "    </tr>\n",
              "  </tbody>\n",
              "</table>\n",
              "<p>4128 rows × 9 columns</p>\n",
              "</div>\n",
              "      <button class=\"colab-df-convert\" onclick=\"convertToInteractive('df-9092deba-16a9-407f-a801-60213b7779a4')\"\n",
              "              title=\"Convert this dataframe to an interactive table.\"\n",
              "              style=\"display:none;\">\n",
              "        \n",
              "  <svg xmlns=\"http://www.w3.org/2000/svg\" height=\"24px\"viewBox=\"0 0 24 24\"\n",
              "       width=\"24px\">\n",
              "    <path d=\"M0 0h24v24H0V0z\" fill=\"none\"/>\n",
              "    <path d=\"M18.56 5.44l.94 2.06.94-2.06 2.06-.94-2.06-.94-.94-2.06-.94 2.06-2.06.94zm-11 1L8.5 8.5l.94-2.06 2.06-.94-2.06-.94L8.5 2.5l-.94 2.06-2.06.94zm10 10l.94 2.06.94-2.06 2.06-.94-2.06-.94-.94-2.06-.94 2.06-2.06.94z\"/><path d=\"M17.41 7.96l-1.37-1.37c-.4-.4-.92-.59-1.43-.59-.52 0-1.04.2-1.43.59L10.3 9.45l-7.72 7.72c-.78.78-.78 2.05 0 2.83L4 21.41c.39.39.9.59 1.41.59.51 0 1.02-.2 1.41-.59l7.78-7.78 2.81-2.81c.8-.78.8-2.07 0-2.86zM5.41 20L4 18.59l7.72-7.72 1.47 1.35L5.41 20z\"/>\n",
              "  </svg>\n",
              "      </button>\n",
              "      \n",
              "  <style>\n",
              "    .colab-df-container {\n",
              "      display:flex;\n",
              "      flex-wrap:wrap;\n",
              "      gap: 12px;\n",
              "    }\n",
              "\n",
              "    .colab-df-convert {\n",
              "      background-color: #E8F0FE;\n",
              "      border: none;\n",
              "      border-radius: 50%;\n",
              "      cursor: pointer;\n",
              "      display: none;\n",
              "      fill: #1967D2;\n",
              "      height: 32px;\n",
              "      padding: 0 0 0 0;\n",
              "      width: 32px;\n",
              "    }\n",
              "\n",
              "    .colab-df-convert:hover {\n",
              "      background-color: #E2EBFA;\n",
              "      box-shadow: 0px 1px 2px rgba(60, 64, 67, 0.3), 0px 1px 3px 1px rgba(60, 64, 67, 0.15);\n",
              "      fill: #174EA6;\n",
              "    }\n",
              "\n",
              "    [theme=dark] .colab-df-convert {\n",
              "      background-color: #3B4455;\n",
              "      fill: #D2E3FC;\n",
              "    }\n",
              "\n",
              "    [theme=dark] .colab-df-convert:hover {\n",
              "      background-color: #434B5C;\n",
              "      box-shadow: 0px 1px 3px 1px rgba(0, 0, 0, 0.15);\n",
              "      filter: drop-shadow(0px 1px 2px rgba(0, 0, 0, 0.3));\n",
              "      fill: #FFFFFF;\n",
              "    }\n",
              "  </style>\n",
              "\n",
              "      <script>\n",
              "        const buttonEl =\n",
              "          document.querySelector('#df-9092deba-16a9-407f-a801-60213b7779a4 button.colab-df-convert');\n",
              "        buttonEl.style.display =\n",
              "          google.colab.kernel.accessAllowed ? 'block' : 'none';\n",
              "\n",
              "        async function convertToInteractive(key) {\n",
              "          const element = document.querySelector('#df-9092deba-16a9-407f-a801-60213b7779a4');\n",
              "          const dataTable =\n",
              "            await google.colab.kernel.invokeFunction('convertToInteractive',\n",
              "                                                     [key], {});\n",
              "          if (!dataTable) return;\n",
              "\n",
              "          const docLinkHtml = 'Like what you see? Visit the ' +\n",
              "            '<a target=\"_blank\" href=https://colab.research.google.com/notebooks/data_table.ipynb>data table notebook</a>'\n",
              "            + ' to learn more about interactive tables.';\n",
              "          element.innerHTML = '';\n",
              "          dataTable['output_type'] = 'display_data';\n",
              "          await google.colab.output.renderOutput(dataTable, element);\n",
              "          const docLink = document.createElement('div');\n",
              "          docLink.innerHTML = docLinkHtml;\n",
              "          element.appendChild(docLink);\n",
              "        }\n",
              "      </script>\n",
              "    </div>\n",
              "  </div>\n",
              "  "
            ]
          },
          "metadata": {},
          "execution_count": 151
        }
      ]
    },
    {
      "cell_type": "markdown",
      "source": [
        "### from test set i will separate median house value"
      ],
      "metadata": {
        "id": "IAz9gkKopvaP"
      }
    },
    {
      "cell_type": "code",
      "source": [
        "y_test = test_set[\"median_house_value\"].copy()\n",
        "y_test"
      ],
      "metadata": {
        "colab": {
          "base_uri": "https://localhost:8080/"
        },
        "id": "ONzB6Tvom3Bu",
        "outputId": "f1f354a4-7e80-4869-9766-272f74ac98e7"
      },
      "execution_count": null,
      "outputs": [
        {
          "output_type": "execute_result",
          "data": {
            "text/plain": [
              "20046     47700.0\n",
              "3024      45800.0\n",
              "15663    500001.0\n",
              "20484    218600.0\n",
              "9814     278000.0\n",
              "           ...   \n",
              "15362    263300.0\n",
              "16623    266800.0\n",
              "18086    500001.0\n",
              "2144      72300.0\n",
              "3665     151500.0\n",
              "Name: median_house_value, Length: 4128, dtype: float64"
            ]
          },
          "metadata": {},
          "execution_count": 152
        }
      ]
    },
    {
      "cell_type": "markdown",
      "source": [
        "### X_test set has to go through full pipeline "
      ],
      "metadata": {
        "id": "Amtzrk96p9nK"
      }
    },
    {
      "cell_type": "code",
      "source": [
        "X_test_predicted = full_pipeline.transform(X_test)"
      ],
      "metadata": {
        "id": "85ydClDvnMp3"
      },
      "execution_count": null,
      "outputs": []
    },
    {
      "cell_type": "markdown",
      "source": [
        "### y_predicted is our new predicted median house values "
      ],
      "metadata": {
        "id": "r6YcWTnAqFZP"
      }
    },
    {
      "cell_type": "code",
      "source": [
        "y_predicted = LR_model.predict(X_test_predicted)\n",
        "y_predicted"
      ],
      "metadata": {
        "colab": {
          "base_uri": "https://localhost:8080/"
        },
        "id": "38iefdytn9DA",
        "outputId": "036bb494-b0bb-4000-ec32-b8f32cf5b18f"
      },
      "execution_count": null,
      "outputs": [
        {
          "output_type": "execute_result",
          "data": {
            "text/plain": [
              "array([ 61874.25460143, 121853.52511139, 267770.94368091, ...,\n",
              "       447837.04647878, 117275.9214608 , 185597.46125194])"
            ]
          },
          "metadata": {},
          "execution_count": 154
        }
      ]
    },
    {
      "cell_type": "markdown",
      "source": [
        "# Now we have to evaluate our prediction, in this case with mean absolute error"
      ],
      "metadata": {
        "id": "MLYMBDJ_qkZS"
      }
    },
    {
      "cell_type": "code",
      "source": [
        "from sklearn.metrics import mean_absolute_error \n",
        "\n",
        "mae = mean_absolute_error(y_test, y_predicted)"
      ],
      "metadata": {
        "id": "w6IsxtXboiqx"
      },
      "execution_count": null,
      "outputs": []
    },
    {
      "cell_type": "code",
      "source": [
        "mae"
      ],
      "metadata": {
        "colab": {
          "base_uri": "https://localhost:8080/"
        },
        "id": "ZecBU1B4pWc-",
        "outputId": "eae0cc54-ca76-4d32-970e-694ffc223b44"
      },
      "execution_count": null,
      "outputs": [
        {
          "output_type": "execute_result",
          "data": {
            "text/plain": [
              "50898.7395349408"
            ]
          },
          "metadata": {},
          "execution_count": 156
        }
      ]
    },
    {
      "cell_type": "markdown",
      "source": [
        "# AS WE CAN SEE FROM MEAN_ABSOLUTE_ERROR RESULTS, THAT OUR ML MODEL IS WORKING WITH MEAN 50 000$ ERROR WHILE PREDICTING."
      ],
      "metadata": {
        "id": "5hzNbG6wq9mQ"
      }
    },
    {
      "cell_type": "code",
      "source": [
        "from sklearn.metrics import mean_squared_error \n",
        "\n",
        "mse = mean_squared_error(y_test, y_predicted)"
      ],
      "metadata": {
        "id": "xj4UvD4Vpd-C"
      },
      "execution_count": null,
      "outputs": []
    },
    {
      "cell_type": "code",
      "source": [
        "print(\"RMSE=\", np.sqrt(mse))"
      ],
      "metadata": {
        "colab": {
          "base_uri": "https://localhost:8080/"
        },
        "id": "xRAxUxAzsBhU",
        "outputId": "b6a9e8f1-f2c6-40b8-acc1-5a70af0ca08e"
      },
      "execution_count": null,
      "outputs": [
        {
          "output_type": "stream",
          "name": "stdout",
          "text": [
            "RMSE= 72701.32600762138\n"
          ]
        }
      ]
    },
    {
      "cell_type": "markdown",
      "source": [
        "#AS WE CAN SEE FROM MEAN_SQUARED_ERROR RESULTS, THAT OUR ML MODEL IS WORKING WITH MEAN 72 000$ ERROR WHILE PREDICTING.\n",
        "\n",
        "# SKLEARN HAS MULTIPLE ALGORYTHMS LIKE LINEAR REGRESSION, RANDOM FOREST AND SO ON...  IF THE ACCURACY OF OUR ML MODEL IS NOT SATISFIED, WE CAN GO THROUGH ANOTHER ALGORYTHM. "
      ],
      "metadata": {
        "id": "TJHm9kt5sodw"
      }
    },
    {
      "cell_type": "markdown",
      "source": [
        "# Cross-validation"
      ],
      "metadata": {
        "id": "PmmSG1UERL9W"
      }
    },
    {
      "cell_type": "code",
      "source": [
        "X = df.drop(\"median_house_value\", axis=1)\n",
        "y = df[\"median_house_value\"].copy()\n",
        "\n",
        "X_prepared = full_pipeline.transform(X)\n"
      ],
      "metadata": {
        "id": "alob4ShwRPMJ"
      },
      "execution_count": null,
      "outputs": []
    },
    {
      "cell_type": "code",
      "source": [
        "from sklearn.model_selection import cross_val_score \n",
        "\n",
        "mse_scores=cross_val_score(LR_model, X_prepared, y, scoring=\"neg_mean_squared_error\", cv=5 )"
      ],
      "metadata": {
        "id": "E_bcvARPSA8c"
      },
      "execution_count": null,
      "outputs": []
    },
    {
      "cell_type": "code",
      "source": [
        "def display_scores(scores):\n",
        "    print(\"Scores:\", scores)\n",
        "    print(\"Mean:\", scores.mean())\n",
        "    print(\"Std.dev:\", scores.std())"
      ],
      "metadata": {
        "id": "VXp5z8udSz7G"
      },
      "execution_count": null,
      "outputs": []
    },
    {
      "cell_type": "code",
      "source": [
        "display_scores(np.sqrt(-mse_scores))"
      ],
      "metadata": {
        "colab": {
          "base_uri": "https://localhost:8080/"
        },
        "id": "n1-_n60zTu5n",
        "outputId": "a3c8ad61-3e05-406c-9e22-a3a5463d4e7f"
      },
      "execution_count": null,
      "outputs": [
        {
          "output_type": "stream",
          "name": "stdout",
          "text": [
            "Scores: [73394.92502922 74814.24096819 75431.93119241 76608.78768825\n",
            " 66196.48128669]\n",
            "Mean: 73289.27323295093\n",
            "Std.dev: 3694.7136787223626\n"
          ]
        }
      ]
    },
    {
      "cell_type": "code",
      "source": [
        "from sklearn.ensemble import RandomForestRegressor\n",
        "RF_model = RandomForestRegressor()\n",
        "RF_model.fit(X_prepared, y)"
      ],
      "metadata": {
        "colab": {
          "base_uri": "https://localhost:8080/"
        },
        "id": "rgle2gl9Wbn4",
        "outputId": "424409ec-dc62-4bc9-977c-7f87f4ff8565"
      },
      "execution_count": null,
      "outputs": [
        {
          "output_type": "execute_result",
          "data": {
            "text/plain": [
              "RandomForestRegressor()"
            ]
          },
          "metadata": {},
          "execution_count": 168
        }
      ]
    },
    {
      "cell_type": "code",
      "source": [
        "scores = cross_val_score(RF_model, X_prepared, y, scoring=\"neg_mean_squared_error\", cv=10)\n",
        "LR_rmse_scores = np.sqrt(-scores)"
      ],
      "metadata": {
        "id": "aerCuv0QTvte"
      },
      "execution_count": null,
      "outputs": []
    },
    {
      "cell_type": "code",
      "source": [
        "display_scores(LR_rmse_scores)"
      ],
      "metadata": {
        "colab": {
          "base_uri": "https://localhost:8080/"
        },
        "id": "hNWvPQttUyfe",
        "outputId": "82a6890d-fcd8-4b03-f62b-f8ef8cd7faeb"
      },
      "execution_count": null,
      "outputs": [
        {
          "output_type": "stream",
          "name": "stdout",
          "text": [
            "Scores: [97265.42402384 47063.5470799  65221.20990222 56521.41849797\n",
            " 61440.1813655  59994.59517895 46949.11648623 78387.88733136\n",
            " 74208.77845864 49387.42758346]\n",
            "Mean: 63643.95859080739\n",
            "Std.dev: 15125.048935411569\n"
          ]
        }
      ]
    },
    {
      "cell_type": "markdown",
      "source": [
        "# Saving file/ pickle"
      ],
      "metadata": {
        "id": "09TxQe8uYend"
      }
    },
    {
      "cell_type": "code",
      "source": [
        "import pickle\n",
        "\n",
        "filename = 'RF_model.pkl' # faylga istalgan nom beramiz\n",
        "with open(filename, 'wb') as file:\n",
        "    pickle.dump(RF_model, file)"
      ],
      "metadata": {
        "id": "vhGSl9gOU57V"
      },
      "execution_count": null,
      "outputs": []
    },
    {
      "cell_type": "code",
      "source": [
        "with open(filename, 'rb') as file:\n",
        "    model = pickle.load(file)"
      ],
      "metadata": {
        "id": "DlN-qoBuYi8n"
      },
      "execution_count": null,
      "outputs": []
    },
    {
      "cell_type": "markdown",
      "source": [
        "# Testing our model"
      ],
      "metadata": {
        "id": "pg4CokreYs1e"
      }
    },
    {
      "cell_type": "code",
      "source": [
        "scores = cross_val_score(model, X_prepared, y, scoring=\"neg_mean_squared_error\", cv=5)\n",
        "LR_rmse_scores = np.sqrt(-scores)\n",
        "display_scores(LR_rmse_scores)"
      ],
      "metadata": {
        "colab": {
          "base_uri": "https://localhost:8080/"
        },
        "id": "eYfgOOTLYn0H",
        "outputId": "5d230cb7-19df-4db2-ad59-056f4851b9b5"
      },
      "execution_count": null,
      "outputs": [
        {
          "output_type": "stream",
          "name": "stdout",
          "text": [
            "Scores: [77396.86452823 64344.10345222 61099.20636724 82712.6078699\n",
            " 62102.15434144]\n",
            "Mean: 69530.98731180481\n",
            "Std.dev: 8818.315012439547\n"
          ]
        }
      ]
    },
    {
      "cell_type": "markdown",
      "source": [
        "# Saving with joblib"
      ],
      "metadata": {
        "id": "Xh4QAEofY39D"
      }
    },
    {
      "cell_type": "code",
      "source": [
        "import joblib\n",
        "\n",
        "filename = 'RF_model.jbl' # faylga istalgan nom beramiz\n",
        "joblib.dump(RF_model, filename)"
      ],
      "metadata": {
        "colab": {
          "base_uri": "https://localhost:8080/"
        },
        "id": "tSMM9HSfYwvo",
        "outputId": "e74a4c75-9c9d-4e31-82d4-915f3ef7f94d"
      },
      "execution_count": null,
      "outputs": [
        {
          "output_type": "execute_result",
          "data": {
            "text/plain": [
              "['RF_model.jbl']"
            ]
          },
          "metadata": {},
          "execution_count": 118
        }
      ]
    },
    {
      "cell_type": "markdown",
      "source": [
        "# Reading our model"
      ],
      "metadata": {
        "id": "Uqhd-HmbY_d5"
      }
    },
    {
      "cell_type": "code",
      "source": [
        "model = joblib.load(filename)"
      ],
      "metadata": {
        "id": "yLTtAk9HZCUk"
      },
      "execution_count": null,
      "outputs": []
    },
    {
      "cell_type": "markdown",
      "source": [
        "# Testing our model"
      ],
      "metadata": {
        "id": "k371m5F1ZiHG"
      }
    },
    {
      "cell_type": "code",
      "source": [
        "scores = cross_val_score(model, X_prepared, y, scoring=\"neg_mean_squared_error\", cv=5)\n",
        "LR_rmse_scores = np.sqrt(-scores)\n",
        "display_scores(LR_rmse_scores)"
      ],
      "metadata": {
        "colab": {
          "base_uri": "https://localhost:8080/"
        },
        "id": "Kk8J_GhGZQbn",
        "outputId": "258903be-d3b2-443f-e4b9-c1b39bb7669f"
      },
      "execution_count": null,
      "outputs": [
        {
          "output_type": "stream",
          "name": "stdout",
          "text": [
            "Scores: [76751.81301967 64129.88771023 61166.92746367 82151.04980834\n",
            " 62501.62578379]\n",
            "Mean: 69340.26075713856\n",
            "Std.dev: 8482.519858717022\n"
          ]
        }
      ]
    },
    {
      "cell_type": "markdown",
      "source": [
        "# Saving Pipeline"
      ],
      "metadata": {
        "id": "MY2eFRFDZsSo"
      }
    },
    {
      "cell_type": "code",
      "source": [
        "filename = 'pipeline.jbl'\n",
        "joblib.dump(full_pipeline, filename)"
      ],
      "metadata": {
        "colab": {
          "base_uri": "https://localhost:8080/"
        },
        "id": "03xgRb0RZRAN",
        "outputId": "e38cd988-848b-4d4f-dd36-0087a460b28f"
      },
      "execution_count": null,
      "outputs": [
        {
          "output_type": "execute_result",
          "data": {
            "text/plain": [
              "['pipeline.jbl']"
            ]
          },
          "metadata": {},
          "execution_count": 121
        }
      ]
    }
  ]
}